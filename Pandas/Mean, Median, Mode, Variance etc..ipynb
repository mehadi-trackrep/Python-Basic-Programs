{
 "cells": [
  {
   "cell_type": "code",
   "execution_count": 4,
   "metadata": {
    "collapsed": false
   },
   "outputs": [
    {
     "name": "stdout",
     "output_type": "stream",
     "text": [
      "1.4\n",
      "3\n",
      "1\n",
      "0.3\n"
     ]
    }
   ],
   "source": [
    "from statistics import mean,mode,median,variance\n",
    "\n",
    "print(mean([1,1,1,2,2]))\n",
    "print(mode([1,1,1,2,2,3,3,3,3])) ## jar frequency beshi ..\n",
    "print(median([1,1,1,2,2]))\n",
    "print(variance([1,1,1,2,2]))\n"
   ]
  }
 ],
 "metadata": {
  "kernelspec": {
   "display_name": "Python 3",
   "language": "python",
   "name": "python3"
  },
  "language_info": {
   "codemirror_mode": {
    "name": "ipython",
    "version": 3
   },
   "file_extension": ".py",
   "mimetype": "text/x-python",
   "name": "python",
   "nbconvert_exporter": "python",
   "pygments_lexer": "ipython3",
   "version": "3.6.0"
  }
 },
 "nbformat": 4,
 "nbformat_minor": 2
}
