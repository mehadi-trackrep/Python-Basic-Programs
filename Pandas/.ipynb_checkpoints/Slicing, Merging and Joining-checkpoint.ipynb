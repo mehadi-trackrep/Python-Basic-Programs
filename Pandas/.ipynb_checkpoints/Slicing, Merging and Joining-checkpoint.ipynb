{
 "cells": [
  {
   "cell_type": "code",
   "execution_count": 7,
   "metadata": {
    "collapsed": false,
    "scrolled": false
   },
   "outputs": [
    {
     "name": "stdout",
     "output_type": "stream",
     "text": [
      "   Bounce_Rate  Day  Visitors\n",
      "0           20    1      1000\n",
      "1           20    2       700\n",
      "   Bounce_Rate  Day  Visitors\n",
      "4           10    5       400\n",
      "5           34    6       350\n"
     ]
    }
   ],
   "source": [
    "import pandas as pd\n",
    "dict1 = {'Day':[1,2,3,4,5,6], 'Visitors':[1000,700,6000,1000,400,350], 'Bounce_Rate':[20,20,23,15,10,34]}\n",
    "df = pd.DataFrame(dict1)\n",
    "###Slicing:-\n",
    "print(df.head(2))\n",
    "print(df.tail(2))"
   ]
  },
  {
   "cell_type": "code",
   "execution_count": 18,
   "metadata": {
    "collapsed": false
   },
   "outputs": [
    {
     "name": "stdout",
     "output_type": "stream",
     "text": [
      "   HPI  IND_GDP  Int_rate\n",
      "0   80       50         2\n",
      "1   90       45         1\n",
      "2   70       45         2\n",
      "3   60       67         3\n",
      "   HPI  IND_GDP_x  Int_rate_x  IND_GDP_y  Int_rate_y\n",
      "0   80         50           2         50           2\n",
      "1   90         45           1         45           1\n",
      "2   70         45           2         45           2\n",
      "3   60         67           3         67           3\n"
     ]
    }
   ],
   "source": [
    "###Merging:-\n",
    "df1 = pd.DataFrame({'HPI':[80,90,70,60], 'Int_rate':[2,1,2,3], 'IND_GDP':[50,45,45,67]}, index = [2001,2002,2003,2004])\n",
    "df2 = pd.DataFrame({'HPI':[80,90,70,60], 'Int_rate':[2,1,2,3], 'IND_GDP':[50,45,45,67]}, index = [2005,2006,2007,2008])\n",
    "\n",
    "merge_df = pd.merge(df1,df2)\n",
    "merge_df1 = pd.merge(df1,df2, on='HPI')\n",
    "\n",
    "print(merge_df)\n",
    "print(merge_df1)\n"
   ]
  },
  {
   "cell_type": "code",
   "execution_count": 20,
   "metadata": {
    "collapsed": false
   },
   "outputs": [
    {
     "name": "stdout",
     "output_type": "stream",
     "text": [
      "      IND_GDP  Int_rate  Low_tier_HP  Unemployment\n",
      "2001       50         2          2.0          50.0\n",
      "2002       45         1          NaN           NaN\n",
      "2003       45         2          1.0          45.0\n",
      "2004       67         3          2.0          45.0\n",
      "2004       67         3          3.0          67.0\n"
     ]
    }
   ],
   "source": [
    "###Joining:-\n",
    "df1 = pd.DataFrame({'Int_rate':[2,1,2,3], 'IND_GDP':[50,45,45,67]}, index = [2001,2002,2003,2004])\n",
    "df2 = pd.DataFrame({'Low_tier_HP':[2,1,2,3], 'Unemployment':[50,45,45,67]}, index = [2001,2003,2004,2004])\n",
    "\n",
    "join_df = df1.join(df2)\n",
    "\n",
    "print(join_df)\n",
    "# print(merge_df)\n"
   ]
  }
 ],
 "metadata": {
  "kernelspec": {
   "display_name": "Python 3",
   "language": "python",
   "name": "python3"
  },
  "language_info": {
   "codemirror_mode": {
    "name": "ipython",
    "version": 3
   },
   "file_extension": ".py",
   "mimetype": "text/x-python",
   "name": "python",
   "nbconvert_exporter": "python",
   "pygments_lexer": "ipython3",
   "version": "3.6.0"
  }
 },
 "nbformat": 4,
 "nbformat_minor": 2
}
