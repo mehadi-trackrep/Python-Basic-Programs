{
 "cells": [
  {
   "cell_type": "code",
   "execution_count": 1,
   "metadata": {
    "collapsed": true
   },
   "outputs": [],
   "source": [
    "import numpy as np\n",
    "import pandas as pd\n",
    "from matplotlib import pyplot as plt\n",
    "from datetime import datetime\n",
    "import json\n",
    "from bs4 import BeautifulSoup\n",
    "import requests\n"
   ]
  },
  {
   "cell_type": "code",
   "execution_count": 2,
   "metadata": {
    "collapsed": true
   },
   "outputs": [],
   "source": [
    "def timestamp2date(timestamp):\n",
    "    # function converts a Unix timestamp into Gregorian date\n",
    "    return datetime.fromtimestamp(int(timestamp)).strftime('%Y-%m-%d')\n",
    " \n",
    "def date2timestamp(date):\n",
    "    # function coverts Gregorian date in a given format to timestamp\n",
    "    return datetime.strptime(date_today, '%Y-%m-%d').timestamp()"
   ]
  },
  {
   "cell_type": "code",
   "execution_count": 4,
   "metadata": {
    "collapsed": false
   },
   "outputs": [],
   "source": [
    "def fetchCryptoOHLC(fsym, tsym):\n",
    "    # function fetches a crypto price-series for fsym/tsym and stores\n",
    "    # it in pandas DataFrame\n",
    " \n",
    "    cols = ['date', 'timestamp', 'open', 'high', 'low', 'close']\n",
    "    lst = ['time', 'open', 'high', 'low', 'close']\n",
    " \n",
    "    timestamp_today = datetime.today().timestamp()\n",
    "    curr_timestamp = timestamp_today\n",
    " \n",
    "    for j in range(2):\n",
    "        df = pd.DataFrame(columns=cols)\n",
    "        url = \"https://min-api.cryptocompare.com/data/histoday?fsym=\" + fsym + \"&tsym=\" + tsym + \"&toTs=\" + str(int(curr_timestamp)) + \"&limit=2000\"\n",
    "        response = requests.get(url)\n",
    "        soup = BeautifulSoup(response.content, \"html.parser\")\n",
    "        dic = json.loads(soup.prettify())\n",
    "        for i in range(1, 2001):\n",
    "            tmp = []\n",
    "            for e in enumerate(lst):\n",
    "                x = e[0]\n",
    "                y = dic['Data'][i][e[1]]\n",
    "                if(x == 0):\n",
    "                    tmp.append(str(timestamp2date(y)))\n",
    "                tmp.append(y)\n",
    "            if(np.sum(tmp[-4::]) > 0):\n",
    "                df.loc[len(df)] = np.array(tmp)\n",
    "        df.index = pd.to_datetime(df.date)\n",
    "        df.drop('date', axis=1, inplace=True)\n",
    "        curr_timestamp = int(df.ix[0][0])\n",
    "        if(j == 0):\n",
    "            df0 = df.copy()\n",
    "        else:\n",
    "            data = pd.concat([df, df0], axis=0)\n",
    " \n",
    "    return data"
   ]
  },
  {
   "cell_type": "code",
   "execution_count": 5,
   "metadata": {
    "collapsed": false
   },
   "outputs": [
    {
     "name": "stdout",
     "output_type": "stream",
     "text": [
      "             timestamp     open     high      low    close\n",
      "date                                                      \n",
      "2010-07-17  1279324800  0.04951  0.04951  0.04951  0.04951\n",
      "2010-07-18  1279411200  0.04951  0.08585  0.05941  0.08584\n",
      "2010-07-19  1279497600  0.08584  0.09307  0.07723   0.0808\n",
      "2010-07-20  1279584000   0.0808  0.08181  0.07426  0.07474\n",
      "2010-07-21  1279670400  0.07474  0.07921  0.06634  0.07921\n",
      "2010-07-22  1279756800  0.07921  0.08181   0.0505   0.0505\n",
      "2010-07-23  1279843200   0.0505  0.06767   0.0505  0.06262\n",
      "2010-07-24  1279929600  0.06262  0.06161  0.05049  0.05454\n",
      "2010-07-25  1280016000  0.05454  0.05941   0.0505   0.0505\n",
      "2010-07-26  1280102400   0.0505    0.056     0.05    0.056\n",
      "2010-07-27  1280188800    0.056   0.0605    0.053     0.06\n",
      "2010-07-28  1280275200     0.06    0.062    0.054   0.0589\n",
      "2010-07-29  1280361600   0.0589   0.0699   0.0571   0.0699\n",
      "2010-07-30  1280448000   0.0699   0.0698   0.0582   0.0627\n",
      "2010-07-31  1280534400   0.0627  0.06889    0.056  0.06785\n",
      "2010-08-01  1280620800  0.06785    0.065     0.06   0.0611\n",
      "2010-08-02  1280707200   0.0611   0.0633     0.06     0.06\n",
      "2010-08-03  1280793600     0.06    0.065    0.059     0.06\n",
      "2010-08-04  1280880000     0.06  0.06231    0.057    0.057\n",
      "2010-08-05  1280966400    0.057    0.061    0.058    0.061\n",
      "2010-08-06  1281052800    0.061   0.0624   0.0607   0.0623\n",
      "2010-08-07  1281139200   0.0623   0.0622    0.059    0.059\n",
      "2010-08-08  1281225600    0.059    0.061    0.059   0.0609\n",
      "2010-08-09  1281312000   0.0609   0.0735   0.0593    0.071\n",
      "2010-08-10  1281398400    0.071   0.0709  0.06651     0.07\n",
      "2010-08-11  1281484800     0.07  0.07541     0.06    0.067\n",
      "2010-08-12  1281571200    0.067     0.07  0.06141     0.07\n",
      "2010-08-13  1281657600     0.07    0.068   0.0645   0.0645\n",
      "2010-08-14  1281744000   0.0645   0.0695   0.0645    0.067\n",
      "2010-08-15  1281830400    0.067    0.067    0.065  0.06529\n",
      "...                ...      ...      ...      ...      ...\n",
      "2018-07-04  1530662400  6508.43  6777.97  6411.13  6590.06\n",
      "2018-07-05  1530748800  6589.77  6691.32  6448.23  6534.81\n",
      "2018-07-06  1530835200  6534.81  6633.44  6458.14  6602.02\n",
      "2018-07-07  1530921600  6602.03  6814.42  6518.23  6758.08\n",
      "2018-07-08  1531008000  6758.08  6782.85  6684.15  6707.38\n",
      "2018-07-09  1531094400  6707.46   6803.1  6625.58  6668.84\n",
      "2018-07-10  1531180800  6668.84  6683.61  6277.23  6306.85\n",
      "2018-07-11  1531267200  6306.87  6405.59  6293.68  6394.36\n",
      "2018-07-12  1531353600  6394.36  6394.93     6084   6253.6\n",
      "2018-07-13  1531440000  6253.66  6349.21  6131.54  6229.83\n",
      "2018-07-14  1531526400  6229.61  6332.46  6190.18  6268.75\n",
      "2018-07-15  1531612800  6268.32   6401.5  6245.75  6364.26\n",
      "2018-07-16  1531699200  6364.26  6761.84  6349.83  6740.55\n",
      "2018-07-17  1531785600  6740.54  7476.24  6677.56   7326.7\n",
      "2018-07-18  1531872000  7326.76  7590.65  7253.71  7383.39\n",
      "2018-07-19  1531958400  7383.39   7563.7   7289.9   7477.5\n",
      "2018-07-20  1532044800   7477.1  7676.55  7279.34  7333.93\n",
      "2018-07-21  1532131200  7333.93  7453.07  7220.37   7405.4\n",
      "2018-07-22  1532217600   7405.4  7569.28  7345.25  7398.64\n",
      "2018-07-23  1532304000  7398.64  7798.59  7376.66     7718\n",
      "2018-07-24  1532390400     7718  8485.71  7692.16  8395.82\n",
      "2018-07-25  1532476800  8395.81  8481.11  8061.07  8170.23\n",
      "2018-07-26  1532563200  8170.37  8302.24  7862.67  7937.25\n",
      "2018-07-27  1532649600   7937.1  8278.01  7806.25  8182.89\n",
      "2018-07-28  1532736000  8182.88  8238.04  8070.04  8230.87\n",
      "2018-07-29  1532822400  8230.82  8291.55  8123.53  8216.78\n",
      "2018-07-30  1532908800   8216.7  8273.61  7867.44  8176.06\n",
      "2018-07-31  1532995200  8176.08  8176.27   7663.7   7735.3\n",
      "2018-08-01  1533081600  7736.25  7760.74  7449.31   7610.9\n",
      "2018-08-02  1533168000   7610.9  7713.32  7606.91  7659.36\n",
      "\n",
      "[2940 rows x 5 columns]\n"
     ]
    },
    {
     "data": {
      "text/plain": [
       "<matplotlib.text.Text at 0x7faaeb2d8c88>"
      ]
     },
     "execution_count": 5,
     "metadata": {},
     "output_type": "execute_result"
    }
   ],
   "source": [
    "fsym = \"BTC\"\n",
    "tsym = \"USD\"\n",
    "data = fetchCryptoOHLC(fsym, tsym)\n",
    " \n",
    "# print the BTC/USD OHLC price-series\n",
    "print(data)\n",
    " \n",
    "# # plot them all\n",
    "# plt.figure(figsize=(10,4))\n",
    "# plt.plot(data.open)\n",
    "# plt.plot(data.high)\n",
    "# plt.plot(data.low)\n",
    "# plt.plot(data.close)\n",
    "# plt.legend(loc=2)\n",
    "# plt.title(fsym, fontsize=12)\n",
    "# plt.ylabel(tsym, fontsize=12)"
   ]
  }
 ],
 "metadata": {
  "kernelspec": {
   "display_name": "Python 3",
   "language": "python",
   "name": "python3"
  },
  "language_info": {
   "codemirror_mode": {
    "name": "ipython",
    "version": 3
   },
   "file_extension": ".py",
   "mimetype": "text/x-python",
   "name": "python",
   "nbconvert_exporter": "python",
   "pygments_lexer": "ipython3",
   "version": "3.6.0"
  }
 },
 "nbformat": 4,
 "nbformat_minor": 2
}
