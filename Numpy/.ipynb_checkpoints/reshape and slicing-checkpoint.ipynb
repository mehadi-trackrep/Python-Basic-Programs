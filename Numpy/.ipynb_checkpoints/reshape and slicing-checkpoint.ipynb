{
 "cells": [
  {
   "cell_type": "code",
   "execution_count": 6,
   "metadata": {},
   "outputs": [
    {
     "name": "stdout",
     "output_type": "stream",
     "text": [
      "[ 8 14]\n"
     ]
    }
   ],
   "source": [
    "import numpy as np\n",
    "a = np.array([(0,1,2,3,4),(5,6,7,8,9), (11,12,13,14,15)])\n",
    "print(a[1:,3]) # 1 no row theke start korbe and shob gular 3rd no index value nibe.."
   ]
  },
  {
   "cell_type": "code",
   "execution_count": 12,
   "metadata": {},
   "outputs": [
    {
     "name": "stdout",
     "output_type": "stream",
     "text": [
      "[[0 1]\n",
      " [2 3]\n",
      " [5 6]\n",
      " [7 8]]\n"
     ]
    }
   ],
   "source": [
    "import numpy as np\n",
    "a = np.array([(0,1,2,3),(5,6,7,8)])\n",
    "a = a.reshape(4,2)\n",
    "print(a)"
   ]
  },
  {
   "cell_type": "code",
   "execution_count": 15,
   "metadata": {},
   "outputs": [
    {
     "name": "stdout",
     "output_type": "stream",
     "text": [
      "12\n",
      "[[ 0  1]\n",
      " [ 2  3]\n",
      " [ 4 11]\n",
      " [ 5  6]\n",
      " [ 7  8]\n",
      " [ 9 21]]\n"
     ]
    }
   ],
   "source": [
    "import numpy as np\n",
    "a = np.array([(0,1,2,3,4,11),(5,6,7,8,9,21)])\n",
    "print(a.size)\n",
    "a = a.reshape(6,2) # 2 x 6 martrix is converted to 6 x 2 martrix using reshape operation)\n",
    "print(a)"
   ]
  }
 ],
 "metadata": {
  "kernelspec": {
   "display_name": "Python 3",
   "language": "python",
   "name": "python3"
  },
  "language_info": {
   "codemirror_mode": {
    "name": "ipython",
    "version": 3
   },
   "file_extension": ".py",
   "mimetype": "text/x-python",
   "name": "python",
   "nbconvert_exporter": "python",
   "pygments_lexer": "ipython3",
   "version": "3.6.2"
  }
 },
 "nbformat": 4,
 "nbformat_minor": 2
}
