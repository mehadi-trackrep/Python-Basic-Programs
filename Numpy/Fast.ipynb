{
 "cells": [
  {
   "cell_type": "code",
   "execution_count": 2,
   "metadata": {},
   "outputs": [
    {
     "name": "stdout",
     "output_type": "stream",
     "text": [
      "1.91497802734375\n",
      "0.3497600555419922\n"
     ]
    }
   ],
   "source": [
    "import numpy as np\n",
    "import time\n",
    "import sys\n",
    "\n",
    "SIZE = 10000\n",
    "\n",
    "L1 = range(SIZE)\n",
    "L2 = range(SIZE)\n",
    "\n",
    "N1 = np.arange(SIZE)\n",
    "N2 = np.arange(SIZE)\n",
    "\n",
    "start = time.time()\n",
    "result = [(x+y) for x,y in zip(L1,L2)]\n",
    "# print(result)\n",
    "print((time.time()-start)*1000)\n",
    "\n",
    "start = time.time()\n",
    "result = N1 + N2\n",
    "# print(result)\n",
    "print((time.time()-start)*1000)\n"
   ]
  }
 ],
 "metadata": {
  "kernelspec": {
   "display_name": "Python 3",
   "language": "python",
   "name": "python3"
  },
  "language_info": {
   "codemirror_mode": {
    "name": "ipython",
    "version": 3
   },
   "file_extension": ".py",
   "mimetype": "text/x-python",
   "name": "python",
   "nbconvert_exporter": "python",
   "pygments_lexer": "ipython3",
   "version": "3.6.2"
  }
 },
 "nbformat": 4,
 "nbformat_minor": 2
}
